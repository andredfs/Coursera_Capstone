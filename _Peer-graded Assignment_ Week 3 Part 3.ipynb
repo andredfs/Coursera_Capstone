{
 "cells": [
  {
   "cell_type": "code",
   "execution_count": 7,
   "metadata": {},
   "outputs": [
    {
     "name": "stdout",
     "output_type": "stream",
     "text": [
      "Requirement already satisfied: geopy in /opt/conda/envs/Python-3.7-main/lib/python3.7/site-packages (2.0.0)\n",
      "Requirement already satisfied: geographiclib<2,>=1.49 in /opt/conda/envs/Python-3.7-main/lib/python3.7/site-packages (from geopy) (1.50)\n",
      "Requirement already satisfied: folium in /opt/conda/envs/Python-3.7-main/lib/python3.7/site-packages (0.11.0)\n",
      "Requirement already satisfied: requests in /opt/conda/envs/Python-3.7-main/lib/python3.7/site-packages (from folium) (2.24.0)\n",
      "Requirement already satisfied: branca>=0.3.0 in /opt/conda/envs/Python-3.7-main/lib/python3.7/site-packages (from folium) (0.4.1)\n",
      "Requirement already satisfied: numpy in /opt/conda/envs/Python-3.7-main/lib/python3.7/site-packages (from folium) (1.18.5)\n",
      "Requirement already satisfied: jinja2>=2.9 in /opt/conda/envs/Python-3.7-main/lib/python3.7/site-packages (from folium) (2.11.2)\n",
      "Requirement already satisfied: chardet<4,>=3.0.2 in /opt/conda/envs/Python-3.7-main/lib/python3.7/site-packages (from requests->folium) (3.0.4)\n",
      "Requirement already satisfied: idna<3,>=2.5 in /opt/conda/envs/Python-3.7-main/lib/python3.7/site-packages (from requests->folium) (2.9)\n",
      "Requirement already satisfied: urllib3!=1.25.0,!=1.25.1,<1.26,>=1.21.1 in /opt/conda/envs/Python-3.7-main/lib/python3.7/site-packages (from requests->folium) (1.25.9)\n",
      "Requirement already satisfied: certifi>=2017.4.17 in /opt/conda/envs/Python-3.7-main/lib/python3.7/site-packages (from requests->folium) (2020.6.20)\n",
      "Requirement already satisfied: MarkupSafe>=0.23 in /opt/conda/envs/Python-3.7-main/lib/python3.7/site-packages (from jinja2>=2.9->folium) (1.1.1)\n",
      "Libraries imported.\n"
     ]
    }
   ],
   "source": [
    "import numpy as np\n",
    "import pandas as pd\n",
    "pd.set_option('display.max_columns', None)\n",
    "pd.set_option('display.max_rows', None)\n",
    "\n",
    "import json\n",
    "\n",
    "!pip install geopy\n",
    "from geopy.geocoders import Nominatim\n",
    "\n",
    "from bs4 import BeautifulSoup\n",
    "from urllib.request import urlopen\n",
    "import requests\n",
    "from pandas.io.json import json_normalize\n",
    "\n",
    "import matplotlib.cm as cm\n",
    "import matplotlib.colors as colors\n",
    "\n",
    "from sklearn.cluster import KMeans\n",
    "\n",
    "!pip install folium\n",
    "import folium\n",
    "\n",
    "print('Libraries imported.')"
   ]
  },
  {
   "cell_type": "markdown",
   "metadata": {},
   "source": [
    "--> SCRAPING WIKIPEDIA <--"
   ]
  },
  {
   "cell_type": "code",
   "execution_count": 13,
   "metadata": {},
   "outputs": [],
   "source": [
    "url = 'https://en.wikipedia.org/wiki/List_of_postal_codes_of_Canada:_M'\n",
    "page = urlopen(url).read().decode('utf-8')\n",
    "soup = BeautifulSoup(page, 'html.parser')\n",
    "\n",
    "wiki_table = soup.body.table.tbody"
   ]
  },
  {
   "cell_type": "markdown",
   "metadata": {},
   "source": [
    "--> MAKING THE DATAFRAME <--"
   ]
  },
  {
   "cell_type": "code",
   "execution_count": 14,
   "metadata": {},
   "outputs": [],
   "source": [
    "def get_cell(element):\n",
    "    cells = element.find_all('td')\n",
    "    row = []\n",
    "    \n",
    "    for cell in cells:\n",
    "        if cell.a:            \n",
    "            if (cell.a.text):\n",
    "                row.append(cell.a.text)\n",
    "                continue\n",
    "        row.append(cell.string.strip())\n",
    "        \n",
    "    return row"
   ]
  },
  {
   "cell_type": "code",
   "execution_count": 15,
   "metadata": {},
   "outputs": [],
   "source": [
    "def get_row():    \n",
    "    data = []  \n",
    "    \n",
    "    for tr in wiki_table.find_all('tr'):\n",
    "        row = get_cell(tr)\n",
    "        if len(row) != 3:\n",
    "            continue\n",
    "        data.append(row)        \n",
    "    \n",
    "    return data"
   ]
  },
  {
   "cell_type": "code",
   "execution_count": 16,
   "metadata": {},
   "outputs": [
    {
     "data": {
      "text/html": [
       "<div>\n",
       "<style scoped>\n",
       "    .dataframe tbody tr th:only-of-type {\n",
       "        vertical-align: middle;\n",
       "    }\n",
       "\n",
       "    .dataframe tbody tr th {\n",
       "        vertical-align: top;\n",
       "    }\n",
       "\n",
       "    .dataframe thead th {\n",
       "        text-align: right;\n",
       "    }\n",
       "</style>\n",
       "<table border=\"1\" class=\"dataframe\">\n",
       "  <thead>\n",
       "    <tr style=\"text-align: right;\">\n",
       "      <th></th>\n",
       "      <th>PostalCode</th>\n",
       "      <th>Borough</th>\n",
       "      <th>Neighbourhood</th>\n",
       "    </tr>\n",
       "  </thead>\n",
       "  <tbody>\n",
       "    <tr>\n",
       "      <th>0</th>\n",
       "      <td>M1A</td>\n",
       "      <td>Not assigned</td>\n",
       "      <td>Not assigned</td>\n",
       "    </tr>\n",
       "    <tr>\n",
       "      <th>1</th>\n",
       "      <td>M2A</td>\n",
       "      <td>Not assigned</td>\n",
       "      <td>Not assigned</td>\n",
       "    </tr>\n",
       "    <tr>\n",
       "      <th>2</th>\n",
       "      <td>M3A</td>\n",
       "      <td>North York</td>\n",
       "      <td>Parkwoods</td>\n",
       "    </tr>\n",
       "    <tr>\n",
       "      <th>3</th>\n",
       "      <td>M4A</td>\n",
       "      <td>North York</td>\n",
       "      <td>Victoria Village</td>\n",
       "    </tr>\n",
       "    <tr>\n",
       "      <th>4</th>\n",
       "      <td>M5A</td>\n",
       "      <td>Downtown Toronto</td>\n",
       "      <td>Regent Park, Harbourfront</td>\n",
       "    </tr>\n",
       "  </tbody>\n",
       "</table>\n",
       "</div>"
      ],
      "text/plain": [
       "  PostalCode           Borough              Neighbourhood\n",
       "0        M1A      Not assigned               Not assigned\n",
       "1        M2A      Not assigned               Not assigned\n",
       "2        M3A        North York                  Parkwoods\n",
       "3        M4A        North York           Victoria Village\n",
       "4        M5A  Downtown Toronto  Regent Park, Harbourfront"
      ]
     },
     "execution_count": 16,
     "metadata": {},
     "output_type": "execute_result"
    }
   ],
   "source": [
    "data = get_row()\n",
    "columns = ['PostalCode', 'Borough', 'Neighbourhood']\n",
    "df = pd.DataFrame(data, columns=columns)\n",
    "df.head()"
   ]
  },
  {
   "cell_type": "code",
   "execution_count": 17,
   "metadata": {},
   "outputs": [
    {
     "data": {
      "text/plain": [
       "(180, 3)"
      ]
     },
     "execution_count": 17,
     "metadata": {},
     "output_type": "execute_result"
    }
   ],
   "source": [
    "df.shape"
   ]
  },
  {
   "cell_type": "markdown",
   "metadata": {},
   "source": [
    "--> CLEANING DATA <--"
   ]
  },
  {
   "cell_type": "code",
   "execution_count": 18,
   "metadata": {},
   "outputs": [
    {
     "data": {
      "text/html": [
       "<div>\n",
       "<style scoped>\n",
       "    .dataframe tbody tr th:only-of-type {\n",
       "        vertical-align: middle;\n",
       "    }\n",
       "\n",
       "    .dataframe tbody tr th {\n",
       "        vertical-align: top;\n",
       "    }\n",
       "\n",
       "    .dataframe thead th {\n",
       "        text-align: right;\n",
       "    }\n",
       "</style>\n",
       "<table border=\"1\" class=\"dataframe\">\n",
       "  <thead>\n",
       "    <tr style=\"text-align: right;\">\n",
       "      <th></th>\n",
       "      <th>PostalCode</th>\n",
       "      <th>Borough</th>\n",
       "      <th>Neighbourhood</th>\n",
       "    </tr>\n",
       "  </thead>\n",
       "  <tbody>\n",
       "    <tr>\n",
       "      <th>0</th>\n",
       "      <td>M1B</td>\n",
       "      <td>Scarborough</td>\n",
       "      <td>Malvern, Rouge</td>\n",
       "    </tr>\n",
       "    <tr>\n",
       "      <th>1</th>\n",
       "      <td>M1C</td>\n",
       "      <td>Scarborough</td>\n",
       "      <td>Rouge Hill, Port Union, Highland Creek</td>\n",
       "    </tr>\n",
       "    <tr>\n",
       "      <th>2</th>\n",
       "      <td>M1E</td>\n",
       "      <td>Scarborough</td>\n",
       "      <td>Guildwood, Morningside, West Hill</td>\n",
       "    </tr>\n",
       "    <tr>\n",
       "      <th>3</th>\n",
       "      <td>M1G</td>\n",
       "      <td>Scarborough</td>\n",
       "      <td>Woburn</td>\n",
       "    </tr>\n",
       "    <tr>\n",
       "      <th>4</th>\n",
       "      <td>M1H</td>\n",
       "      <td>Scarborough</td>\n",
       "      <td>Cedarbrae</td>\n",
       "    </tr>\n",
       "  </tbody>\n",
       "</table>\n",
       "</div>"
      ],
      "text/plain": [
       "  PostalCode      Borough                           Neighbourhood\n",
       "0        M1B  Scarborough                          Malvern, Rouge\n",
       "1        M1C  Scarborough  Rouge Hill, Port Union, Highland Creek\n",
       "2        M1E  Scarborough       Guildwood, Morningside, West Hill\n",
       "3        M1G  Scarborough                                  Woburn\n",
       "4        M1H  Scarborough                               Cedarbrae"
      ]
     },
     "execution_count": 18,
     "metadata": {},
     "output_type": "execute_result"
    }
   ],
   "source": [
    "df1 = df[df.Borough != 'Not assigned']\n",
    "df1 = df1.sort_values(by=['PostalCode','Borough'])\n",
    "\n",
    "df1.reset_index(inplace=True)\n",
    "df1.drop('index',axis=1,inplace=True)\n",
    "\n",
    "df1.head()"
   ]
  },
  {
   "cell_type": "code",
   "execution_count": 19,
   "metadata": {},
   "outputs": [],
   "source": [
    "df_postcodes = df1['PostalCode']\n",
    "df_postcodes.drop_duplicates(inplace=True)\n",
    "df2 = pd.DataFrame(df_postcodes)\n",
    "df2['Borough'] = '';\n",
    "df2['Neighbourhood'] = '';\n",
    "\n",
    "\n",
    "df2.reset_index(inplace=True)\n",
    "df2.drop('index', axis=1, inplace=True)\n",
    "df1.reset_index(inplace=True)\n",
    "df1.drop('index', axis=1, inplace=True)\n",
    "\n",
    "for i in df2.index:\n",
    "    for j in df1.index:\n",
    "        if df2.iloc[i, 0] == df1.iloc[j, 0]:\n",
    "            df2.iloc[i, 1] = df1.iloc[j, 1]\n",
    "            df2.iloc[i, 2] = df2.iloc[i, 2] + ',' + df1.iloc[j, 2]\n",
    "            \n",
    "for i in df2.index:\n",
    "    s = df2.iloc[i, 2]\n",
    "    if s[0] == ',':\n",
    "        s =s [1:]\n",
    "    df2.iloc[i,2 ] = s"
   ]
  },
  {
   "cell_type": "code",
   "execution_count": 20,
   "metadata": {},
   "outputs": [
    {
     "data": {
      "text/plain": [
       "(103, 3)"
      ]
     },
     "execution_count": 20,
     "metadata": {},
     "output_type": "execute_result"
    }
   ],
   "source": [
    "df2.shape"
   ]
  },
  {
   "cell_type": "markdown",
   "metadata": {},
   "source": [
    "--> GEOSPATIAL DATA <--"
   ]
  },
  {
   "cell_type": "code",
   "execution_count": 26,
   "metadata": {},
   "outputs": [],
   "source": [
    "\n",
    "import types\n",
    "import pandas as pd\n",
    "from botocore.client import Config\n",
    "import ibm_boto3\n",
    "\n",
    "def __iter__(self): return 0\n",
    "\n",
    "# @hidden_cell\n",
    "# The following code accesses a file in your IBM Cloud Object Storage. It includes your credentials.\n",
    "# You might want to remove those credentials before you share the notebook.\n",
    "client_44782beec27d4b9f8f8006fd1c9c19a1 = ibm_boto3.client(service_name='s3',\n",
    "    ibm_api_key_id='cHsNwNW_hUIpmWwty07c4bt72whOZqBrMZ8Iy6RfnRdj',\n",
    "    ibm_auth_endpoint=\"https://iam.cloud.ibm.com/oidc/token\",\n",
    "    config=Config(signature_version='oauth'),\n",
    "    endpoint_url='https://s3-api.us-geo.objectstorage.service.networklayer.com')\n",
    "\n",
    "body = client_44782beec27d4b9f8f8006fd1c9c19a1.get_object(Bucket='capstoneprojectdatascience-donotdelete-pr-ohtfu7ia7vpwet',Key='Geospatial_Coordinates.csv')['Body']\n",
    "# add missing __iter__ method, so pandas accepts body as file-like object\n",
    "if not hasattr(body, \"__iter__\"): body.__iter__ = types.MethodType( __iter__, body )\n",
    "\n",
    "df_data_1 = pd.read_csv(body)\n",
    "df_data_1.head()\n",
    "# @hidden_cell\n",
    "# The following code contains the credentials for a file in your IBM Cloud Object Storage.\n",
    "# You might want to remove those credentials before you share your notebook.\n",
    "credentials_1 = {\n",
    "    'IAM_SERVICE_ID': 'iam-ServiceId-8b13d663-5b73-4a09-8d68-fb84c44280a2',\n",
    "    'IBM_API_KEY_ID': 'cHsNwNW_hUIpmWwty07c4bt72whOZqBrMZ8Iy6RfnRdj',\n",
    "    'ENDPOINT': 'https://s3-api.us-geo.objectstorage.service.networklayer.com',\n",
    "    'IBM_AUTH_ENDPOINT': 'https://iam.cloud.ibm.com/oidc/token',\n",
    "    'BUCKET': 'capstoneprojectdatascience-donotdelete-pr-ohtfu7ia7vpwet',\n",
    "    'FILE': 'Geospatial_Coordinates.csv'\n",
    "}"
   ]
  },
  {
   "cell_type": "code",
   "execution_count": 27,
   "metadata": {},
   "outputs": [
    {
     "data": {
      "text/html": [
       "<div>\n",
       "<style scoped>\n",
       "    .dataframe tbody tr th:only-of-type {\n",
       "        vertical-align: middle;\n",
       "    }\n",
       "\n",
       "    .dataframe tbody tr th {\n",
       "        vertical-align: top;\n",
       "    }\n",
       "\n",
       "    .dataframe thead th {\n",
       "        text-align: right;\n",
       "    }\n",
       "</style>\n",
       "<table border=\"1\" class=\"dataframe\">\n",
       "  <thead>\n",
       "    <tr style=\"text-align: right;\">\n",
       "      <th></th>\n",
       "      <th>Postal Code</th>\n",
       "      <th>Latitude</th>\n",
       "      <th>Longitude</th>\n",
       "    </tr>\n",
       "  </thead>\n",
       "  <tbody>\n",
       "    <tr>\n",
       "      <th>0</th>\n",
       "      <td>M1B</td>\n",
       "      <td>43.806686</td>\n",
       "      <td>-79.194353</td>\n",
       "    </tr>\n",
       "    <tr>\n",
       "      <th>1</th>\n",
       "      <td>M1C</td>\n",
       "      <td>43.784535</td>\n",
       "      <td>-79.160497</td>\n",
       "    </tr>\n",
       "    <tr>\n",
       "      <th>2</th>\n",
       "      <td>M1E</td>\n",
       "      <td>43.763573</td>\n",
       "      <td>-79.188711</td>\n",
       "    </tr>\n",
       "    <tr>\n",
       "      <th>3</th>\n",
       "      <td>M1G</td>\n",
       "      <td>43.770992</td>\n",
       "      <td>-79.216917</td>\n",
       "    </tr>\n",
       "    <tr>\n",
       "      <th>4</th>\n",
       "      <td>M1H</td>\n",
       "      <td>43.773136</td>\n",
       "      <td>-79.239476</td>\n",
       "    </tr>\n",
       "  </tbody>\n",
       "</table>\n",
       "</div>"
      ],
      "text/plain": [
       "  Postal Code   Latitude  Longitude\n",
       "0         M1B  43.806686 -79.194353\n",
       "1         M1C  43.784535 -79.160497\n",
       "2         M1E  43.763573 -79.188711\n",
       "3         M1G  43.770992 -79.216917\n",
       "4         M1H  43.773136 -79.239476"
      ]
     },
     "execution_count": 27,
     "metadata": {},
     "output_type": "execute_result"
    }
   ],
   "source": [
    "df2['Latitude'] = '0';\n",
    "df2['Longitude'] = '0';\n",
    "\n",
    "df_geo = df_data_1\n",
    "df_geo.head()"
   ]
  },
  {
   "cell_type": "code",
   "execution_count": 28,
   "metadata": {},
   "outputs": [
    {
     "data": {
      "text/html": [
       "<div>\n",
       "<style scoped>\n",
       "    .dataframe tbody tr th:only-of-type {\n",
       "        vertical-align: middle;\n",
       "    }\n",
       "\n",
       "    .dataframe tbody tr th {\n",
       "        vertical-align: top;\n",
       "    }\n",
       "\n",
       "    .dataframe thead th {\n",
       "        text-align: right;\n",
       "    }\n",
       "</style>\n",
       "<table border=\"1\" class=\"dataframe\">\n",
       "  <thead>\n",
       "    <tr style=\"text-align: right;\">\n",
       "      <th></th>\n",
       "      <th>PostalCode</th>\n",
       "      <th>Borough</th>\n",
       "      <th>Neighbourhood</th>\n",
       "      <th>Latitude</th>\n",
       "      <th>Longitude</th>\n",
       "    </tr>\n",
       "  </thead>\n",
       "  <tbody>\n",
       "    <tr>\n",
       "      <th>0</th>\n",
       "      <td>M1B</td>\n",
       "      <td>Scarborough</td>\n",
       "      <td>Malvern, Rouge</td>\n",
       "      <td>43.8067</td>\n",
       "      <td>-79.1944</td>\n",
       "    </tr>\n",
       "    <tr>\n",
       "      <th>1</th>\n",
       "      <td>M1C</td>\n",
       "      <td>Scarborough</td>\n",
       "      <td>Rouge Hill, Port Union, Highland Creek</td>\n",
       "      <td>43.7845</td>\n",
       "      <td>-79.1605</td>\n",
       "    </tr>\n",
       "    <tr>\n",
       "      <th>2</th>\n",
       "      <td>M1E</td>\n",
       "      <td>Scarborough</td>\n",
       "      <td>Guildwood, Morningside, West Hill</td>\n",
       "      <td>43.7636</td>\n",
       "      <td>-79.1887</td>\n",
       "    </tr>\n",
       "    <tr>\n",
       "      <th>3</th>\n",
       "      <td>M1G</td>\n",
       "      <td>Scarborough</td>\n",
       "      <td>Woburn</td>\n",
       "      <td>43.771</td>\n",
       "      <td>-79.2169</td>\n",
       "    </tr>\n",
       "    <tr>\n",
       "      <th>4</th>\n",
       "      <td>M1H</td>\n",
       "      <td>Scarborough</td>\n",
       "      <td>Cedarbrae</td>\n",
       "      <td>43.7731</td>\n",
       "      <td>-79.2395</td>\n",
       "    </tr>\n",
       "  </tbody>\n",
       "</table>\n",
       "</div>"
      ],
      "text/plain": [
       "  PostalCode      Borough                           Neighbourhood Latitude  \\\n",
       "0        M1B  Scarborough                          Malvern, Rouge  43.8067   \n",
       "1        M1C  Scarborough  Rouge Hill, Port Union, Highland Creek  43.7845   \n",
       "2        M1E  Scarborough       Guildwood, Morningside, West Hill  43.7636   \n",
       "3        M1G  Scarborough                                  Woburn   43.771   \n",
       "4        M1H  Scarborough                               Cedarbrae  43.7731   \n",
       "\n",
       "  Longitude  \n",
       "0  -79.1944  \n",
       "1  -79.1605  \n",
       "2  -79.1887  \n",
       "3  -79.2169  \n",
       "4  -79.2395  "
      ]
     },
     "execution_count": 28,
     "metadata": {},
     "output_type": "execute_result"
    }
   ],
   "source": [
    "for i in df2.index:\n",
    "    for j in df_geo.index:\n",
    "        if df2.iloc[i, 0] == df_geo.iloc[j, 0]:\n",
    "            df2.iloc[i, 3] = df_geo.iloc[j, 1]\n",
    "            df2.iloc[i, 4] = df_geo.iloc[j, 2]\n",
    "            \n",
    "df2.head()"
   ]
  },
  {
   "cell_type": "markdown",
   "metadata": {},
   "source": [
    "--> CLUSTERING <--"
   ]
  },
  {
   "cell_type": "code",
   "execution_count": 29,
   "metadata": {},
   "outputs": [
    {
     "data": {
      "text/html": [
       "<div>\n",
       "<style scoped>\n",
       "    .dataframe tbody tr th:only-of-type {\n",
       "        vertical-align: middle;\n",
       "    }\n",
       "\n",
       "    .dataframe tbody tr th {\n",
       "        vertical-align: top;\n",
       "    }\n",
       "\n",
       "    .dataframe thead th {\n",
       "        text-align: right;\n",
       "    }\n",
       "</style>\n",
       "<table border=\"1\" class=\"dataframe\">\n",
       "  <thead>\n",
       "    <tr style=\"text-align: right;\">\n",
       "      <th></th>\n",
       "      <th>PostalCode</th>\n",
       "      <th>Borough</th>\n",
       "      <th>Neighbourhood</th>\n",
       "      <th>Latitude</th>\n",
       "      <th>Longitude</th>\n",
       "    </tr>\n",
       "  </thead>\n",
       "  <tbody>\n",
       "    <tr>\n",
       "      <th>37</th>\n",
       "      <td>M4E</td>\n",
       "      <td>East Toronto</td>\n",
       "      <td>The Beaches</td>\n",
       "      <td>43.6764</td>\n",
       "      <td>-79.293</td>\n",
       "    </tr>\n",
       "    <tr>\n",
       "      <th>41</th>\n",
       "      <td>M4K</td>\n",
       "      <td>East Toronto</td>\n",
       "      <td>The Danforth West, Riverdale</td>\n",
       "      <td>43.6796</td>\n",
       "      <td>-79.3522</td>\n",
       "    </tr>\n",
       "    <tr>\n",
       "      <th>42</th>\n",
       "      <td>M4L</td>\n",
       "      <td>East Toronto</td>\n",
       "      <td>India Bazaar, The Beaches West</td>\n",
       "      <td>43.669</td>\n",
       "      <td>-79.3156</td>\n",
       "    </tr>\n",
       "    <tr>\n",
       "      <th>43</th>\n",
       "      <td>M4M</td>\n",
       "      <td>East Toronto</td>\n",
       "      <td>Studio District</td>\n",
       "      <td>43.6595</td>\n",
       "      <td>-79.3409</td>\n",
       "    </tr>\n",
       "    <tr>\n",
       "      <th>44</th>\n",
       "      <td>M4N</td>\n",
       "      <td>Central Toronto</td>\n",
       "      <td>Lawrence Park</td>\n",
       "      <td>43.728</td>\n",
       "      <td>-79.3888</td>\n",
       "    </tr>\n",
       "  </tbody>\n",
       "</table>\n",
       "</div>"
      ],
      "text/plain": [
       "   PostalCode          Borough                   Neighbourhood Latitude  \\\n",
       "37        M4E     East Toronto                     The Beaches  43.6764   \n",
       "41        M4K     East Toronto    The Danforth West, Riverdale  43.6796   \n",
       "42        M4L     East Toronto  India Bazaar, The Beaches West   43.669   \n",
       "43        M4M     East Toronto                 Studio District  43.6595   \n",
       "44        M4N  Central Toronto                   Lawrence Park   43.728   \n",
       "\n",
       "   Longitude  \n",
       "37   -79.293  \n",
       "41  -79.3522  \n",
       "42  -79.3156  \n",
       "43  -79.3409  \n",
       "44  -79.3888  "
      ]
     },
     "execution_count": 29,
     "metadata": {},
     "output_type": "execute_result"
    }
   ],
   "source": [
    "df3 = df2.copy()\n",
    "df3 = df3[df2.Borough.str.contains(\"Toronto\")]\n",
    "df3.head()"
   ]
  },
  {
   "cell_type": "code",
   "execution_count": 30,
   "metadata": {},
   "outputs": [
    {
     "data": {
      "text/html": [
       "<div style=\"width:100%;\"><div style=\"position:relative;width:100%;height:0;padding-bottom:60%;\"><span style=\"color:#565656\">Make this Notebook Trusted to load map: File -> Trust Notebook</span><iframe src=\"about:blank\" style=\"position:absolute;width:100%;height:100%;left:0;top:0;border:none !important;\" data-html=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 onload=\"this.contentDocument.open();this.contentDocument.write(atob(this.getAttribute('data-html')));this.contentDocument.close();\" allowfullscreen webkitallowfullscreen mozallowfullscreen></iframe></div></div>"
      ],
      "text/plain": [
       "<folium.folium.Map at 0x7fa621f703d0>"
      ]
     },
     "execution_count": 30,
     "metadata": {},
     "output_type": "execute_result"
    }
   ],
   "source": [
    "toronto_map = folium.Map(location=[43.65, -79.4], zoom_start=12)\n",
    "\n",
    "X = df3['Latitude']\n",
    "Y = df3['Longitude']\n",
    "Z = np.stack((X, Y), axis=1)\n",
    "\n",
    "kmeans = KMeans(n_clusters=4, random_state=0).fit(Z)\n",
    "\n",
    "clusters = kmeans.labels_\n",
    "colors = ['red', 'green', 'blue', 'yellow']\n",
    "df3['Cluster'] = clusters\n",
    "\n",
    "for latitude, longitude, borough, cluster in zip(df3['Latitude'], df3['Longitude'], df3['Borough'], df3['Cluster']):\n",
    "    label = folium.Popup(borough, parse_html=True)\n",
    "    folium.CircleMarker(\n",
    "        [latitude, longitude],\n",
    "        radius=5,\n",
    "        popup=label,\n",
    "        color='black',\n",
    "        fill=True,\n",
    "        fill_color=colors[cluster],\n",
    "        fill_opacity=0.7).add_to(toronto_map)  \n",
    "\n",
    "toronto_map"
   ]
  }
 ],
 "metadata": {
  "kernelspec": {
   "display_name": "Python 3.7",
   "language": "python",
   "name": "python3"
  },
  "language_info": {
   "codemirror_mode": {
    "name": "ipython",
    "version": 3
   },
   "file_extension": ".py",
   "mimetype": "text/x-python",
   "name": "python",
   "nbconvert_exporter": "python",
   "pygments_lexer": "ipython3",
   "version": "3.7.9"
  }
 },
 "nbformat": 4,
 "nbformat_minor": 1
}
